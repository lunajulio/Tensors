{
 "cells": [
  {
   "cell_type": "code",
   "execution_count": 2,
   "metadata": {},
   "outputs": [],
   "source": [
    "import matplotlib.pyplot as plt\n",
    "import numpy as np\n",
    "from PIL import Image\n",
    "import requests\n",
    "import io"
   ]
  },
  {
   "cell_type": "code",
   "execution_count": 55,
   "metadata": {},
   "outputs": [],
   "source": [
    "nf = int(input(\"Ingrese el número de filas: \"))\n",
    "nc = int(input(\"Ingrese el número de columnas: \"))"
   ]
  },
  {
   "cell_type": "code",
   "execution_count": 56,
   "metadata": {},
   "outputs": [],
   "source": [
    "matrix = np.zeros((nf, nc, 3))\n",
    "colores = np.zeros((matrix.shape[0], matrix.shape[1], 3))\n",
    "\n",
    "def graphic_(matrix, t, colores):\n",
    "    fig, ax = plt.subplots()\n",
    "    # Crear matriz de colores\n",
    "    \n",
    "    # Resaltar la fila y columna\n",
    "    fila_resaltada = t[0]\n",
    "    colores[fila_resaltada, :, :] = [1, 0.5, 0]\n",
    "    columna_resaltada = t[1]\n",
    "    colores[:, columna_resaltada, :] = [1, 0.5, 0.5]\n",
    "    im = ax.imshow(colores)\n",
    "\n",
    "    # Diagonal Principal\n",
    "    start_row = t[0]\n",
    "    start_col = t[1]\n",
    "    while start_row < nf and start_col < nc:\n",
    "        colores[start_row, start_col] = [1, 0.5, 1]\n",
    "        start_row += 1\n",
    "        start_col += 1\n",
    "    im = ax.imshow(colores)\n",
    "\n",
    "    # Diagonal Secundaria\n",
    "    start_row = t[0]\n",
    "    start_col = t[1]\n",
    "    while start_row < nf and start_col >= 0:\n",
    "        colores[start_row, start_col] = [0.5, 0.5, 1]\n",
    "        start_row += 1\n",
    "        start_col -= 1\n",
    "    im = ax.imshow(colores)\n",
    "\n",
    "    # Mostrar el gráfico\n",
    "    fig.savefig('tensors.png', dpi=300, bbox_inches='tight')\n",
    "    plt.show()\n"
   ]
  },
  {
   "cell_type": "code",
   "execution_count": 70,
   "metadata": {},
   "outputs": [
    {
     "name": "stdout",
     "output_type": "stream",
     "text": [
      "Tupla:  (24, 36)\n"
     ]
    }
   ],
   "source": [
    "t = (np.random.randint(0, nf), np.random.randint(0, nc))\n",
    "print(\"Tupla: \", t)"
   ]
  },
  {
   "cell_type": "code",
   "execution_count": 71,
   "metadata": {},
   "outputs": [
    {
     "data": {
      "image/png": "[encoded data removed]",
      "text/plain": [
       "<Figure size 640x480 with 1 Axes>"
      ]
     },
     "metadata": {},
     "output_type": "display_data"
    }
   ],
   "source": [
    "colores = np.zeros((matrix.shape[0], matrix.shape[1], 3))\n",
    "graphic_(matrix, t, colores)"
   ]
  },
  {
   "cell_type": "code",
   "execution_count": 72,
   "metadata": {},
   "outputs": [
    {
     "data": {
      "image/png": "[encoded data removed]",
      "text/plain": [
       "<Figure size 640x480 with 4 Axes>"
      ]
     },
     "metadata": {},
     "output_type": "display_data"
    }
   ],
   "source": [
    "colores = np.zeros((matrix.shape[0], matrix.shape[1], 3))\n",
    "fig, ((ax1, ax2), (ax3, ax4))= plt.subplots(2,2)\n",
    "iv = t[0]\n",
    "jv = t[1]\n",
    "\n",
    "def branch_12(iv, jv, colores):\n",
    "    for j in range(nc):\n",
    "        i = iv - abs(j-jv)\n",
    "        if i >= 0:\n",
    "            colores[i, j] = [0.5, 0.5, 1]\n",
    "    im = ax1.imshow(colores)\n",
    "\n",
    "branch_12(iv, jv, colores)\n",
    "\n",
    "colores = np.zeros((matrix.shape[0], matrix.shape[1], 3))\n",
    "\n",
    "def branch_34(iv, jv, colores):\n",
    "    for j in range(nc):\n",
    "        i = iv + abs(j-jv)\n",
    "        if i < nf:\n",
    "            colores[i, j] = [1, 0.5, 1]\n",
    "    im = ax2.imshow(colores)\n",
    "\n",
    "branch_34(iv, jv, colores)\n",
    "colores = np.zeros((matrix.shape[0], matrix.shape[1], 3))\n",
    "\n",
    "def branch_23(iv, jv, colores):\n",
    "    for i in range(nf):\n",
    "        j = jv - abs(i-iv)\n",
    "        if j >= 0:\n",
    "            colores[i, j] = [1, 0.5, 0.5]\n",
    "    im = ax3.imshow(colores)\n",
    "\n",
    "\n",
    "branch_23(iv, jv, colores)  \n",
    "colores = np.zeros((matrix.shape[0], matrix.shape[1], 3))\n",
    "\n",
    "def branch_14(iv, jv, colores):\n",
    "    for i in range(nf):\n",
    "        j = jv + abs(i-iv)\n",
    "        if j < nc:\n",
    "            colores[i, j] = [1, 0.5, 0]\n",
    "    im = ax4.imshow(colores)\n",
    "\n",
    "branch_14(iv, jv, colores)\n",
    "fig.savefig('branches.png', dpi=300, bbox_inches='tight')\n",
    "plt.show()\n",
    "\n"
   ]
  },
  {
   "attachments": {},
   "cell_type": "markdown",
   "metadata": {},
   "source": [
    "TENSORES CON IMÁGENES"
   ]
  },
  {
   "cell_type": "code",
   "execution_count": 3,
   "metadata": {},
   "outputs": [
    {
     "name": "stdout",
     "output_type": "stream",
     "text": [
      "(600, 900, 3)\n"
     ]
    }
   ],
   "source": [
    "url = \"https://img2.freepng.es/20171128/334/autumn-red-leaf-png-clipart-image-5a1d63fa805255.6938363915118755785256.jpg\"\n",
    "\n",
    "# Obtener la imagen de la URL\n",
    "response = requests.get(url)\n",
    "image_bytes = io.BytesIO(response.content)\n",
    "\n",
    "# Abrir la imagen con PIL\n",
    "image = Image.open(image_bytes)\n",
    "\n",
    "# Convertir la imagen a un arreglo NumPy\n",
    "image_array = np.array(image)\n",
    "\n",
    "# Imprimir las dimensiones del tensor resultante\n",
    "print(image_array.shape)"
   ]
  }
 ],
 "metadata": {
  "kernelspec": {
   "display_name": "Python 3",
   "language": "python",
   "name": "python3"
  },
  "language_info": {
   "codemirror_mode": {
    "name": "ipython",
    "version": 3
   },
   "file_extension": ".py",
   "mimetype": "text/x-python",
   "name": "python",
   "nbconvert_exporter": "python",
   "pygments_lexer": "ipython3",
   "version": "3.11.3"
  },
  "orig_nbformat": 4
 },
 "nbformat": 4,
 "nbformat_minor": 2
}
