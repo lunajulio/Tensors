{
 "cells": [
  {
   "cell_type": "code",
   "execution_count": 151,
   "metadata": {},
   "outputs": [],
   "source": [
    "import matplotlib.pyplot as plt\n",
    "import numpy as np"
   ]
  },
  {
   "cell_type": "code",
   "execution_count": 232,
   "metadata": {},
   "outputs": [],
   "source": [
    "nf = int(input(\"Ingrese el número de filas: \"))\n",
    "nc = int(input(\"Ingrese el número de columnas: \"))\n",
    "\n",
    "matrix = np.ones((nf, nc))\n",
    "\n",
    "def recursive_fill(matrix, colores, i, j):\n",
    "    # Obtener las dimensiones de la matriz\n",
    "    nf, nc = matrix.shape\n",
    "\n",
    "    # Caso base: cuando se alcanza el final de la matriz\n",
    "    if i >= nf or j >= nc:\n",
    "        return\n",
    "\n",
    "    # Colorear la casilla actual\n",
    "    colores[i, j] = [0, 1, 0]  # Colorear la casilla en verde\n",
    "\n",
    "    # Llamar recursivamente a la función para moverse a la siguiente posición\n",
    "    recursive_fill(matrix, colores, nf - (i + 1), nc - (j + 1))\n",
    "\n",
    "def bordes(matrix, ax):\n",
    "    # Agregar bordes a cada casilla de la matriz\n",
    "    for i in range(matrix.shape[0]+1):\n",
    "        ax.axhline(i-0.5, color='white', lw=1)\n",
    "    for j in range(matrix.shape[1]+1):\n",
    "        ax.axvline(j-0.5, color='white', lw=1)\n",
    "\n",
    "def graphic_(matrix, comp, t):\n",
    "    fig, ax = plt.subplots()\n",
    "    # Crear matriz de colores\n",
    "    colores = np.zeros((matrix.shape[0], matrix.shape[1], 3))\n",
    "    print(colores.shape)\n",
    "\n",
    "    # Colorear fila deseada\n",
    "    if comp == 1:\n",
    "        fila_resaltada = t[0]\n",
    "        colores[fila_resaltada, :, :] = [1, 0.5, 0]\n",
    "        plt.title(\"Fila resaltada: \" + str(fila_resaltada))\n",
    "    if comp == 2:\n",
    "        columna_resaltada = t[1]\n",
    "        colores[:, columna_resaltada, :] = [1, 0.5, 0.5]\n",
    "        plt.title(\"Columna resaltada: \" + str(columna_resaltada))\n",
    "\n",
    "    if comp == 3:\n",
    "         # Colorear las casillas de la diagonal principal\n",
    "        start_row = t[0]\n",
    "        start_col = t[1]\n",
    "        while start_row < nf and start_col < nc:\n",
    "            colores[start_row, start_col] = [1, 0.5, 1]  # Colorear casilla de la diagonal en azul\n",
    "            start_row += 1\n",
    "            start_col += 1\n",
    "        plt.title(\"Diagonal principal\")\n",
    "    \n",
    "    if comp == 4:\n",
    "        # Colorear las casillas de la diagonal secundaria\n",
    "        start_row = t[0]\n",
    "        start_col = t[1]\n",
    "        while start_row < nf and start_col < nc:\n",
    "            colores[start_row, start_col] = [0.5, 0.5, 1]\n",
    "            start_row += 1\n",
    "            start_col -= 1\n",
    "        plt.title(\"Diagonal secundaria\")\n",
    "    \n",
    "    if comp == 5:\n",
    "        # Realizar el recorrido recursivo y colorear las casillas\n",
    "        recursive_fill(matrix, colores, t[0], t[1])\n",
    "        plt.title(\"Recorrido recursivo\")\n",
    "\n",
    "    # Mostrar la matriz con los colores\n",
    "    im = ax.imshow(colores)\n",
    "\n",
    "    show_values(matrix, ax)\n",
    "    # Mostrar el gráfico\n",
    "    bordes(matrix, ax)\n",
    "    plt.show()\n",
    "\n",
    "def show_values(matrix,ax):\n",
    "    # Mostrar los valores de cada celda\n",
    "    for i in range(len(matrix)):\n",
    "        for j in range(len(matrix[0])):\n",
    "            ax.text(j, i, matrix[i][j], ha=\"center\", va=\"center\", color=\"white\")"
   ]
  },
  {
   "cell_type": "code",
   "execution_count": 233,
   "metadata": {},
   "outputs": [
    {
     "name": "stdout",
     "output_type": "stream",
     "text": [
      "Tupla:  (5, 1)\n"
     ]
    }
   ],
   "source": [
    "t = (np.random.randint(0, nf+1), np.random.randint(0, nc+1))\n",
    "print(\"Tupla: \", t)"
   ]
  },
  {
   "cell_type": "code",
   "execution_count": 235,
   "metadata": {},
   "outputs": [
    {
     "name": "stdout",
     "output_type": "stream",
     "text": [
      "(7, 8, 3)\n"
     ]
    },
    {
     "ename": "RecursionError",
     "evalue": "maximum recursion depth exceeded",
     "output_type": "error",
     "traceback": [
      "\u001b[1;31m---------------------------------------------------------------------------\u001b[0m",
      "\u001b[1;31mRecursionError\u001b[0m                            Traceback (most recent call last)",
      "Cell \u001b[1;32mIn[235], line 1\u001b[0m\n\u001b[1;32m----> 1\u001b[0m graphic_(matrix, \u001b[39m5\u001b[39;49m, t)\n",
      "Cell \u001b[1;32mIn[232], line 65\u001b[0m, in \u001b[0;36mgraphic_\u001b[1;34m(matrix, comp, t)\u001b[0m\n\u001b[0;32m     61\u001b[0m     plt\u001b[39m.\u001b[39mtitle(\u001b[39m\"\u001b[39m\u001b[39mDiagonal secundaria\u001b[39m\u001b[39m\"\u001b[39m)\n\u001b[0;32m     63\u001b[0m \u001b[39mif\u001b[39;00m comp \u001b[39m==\u001b[39m \u001b[39m5\u001b[39m:\n\u001b[0;32m     64\u001b[0m     \u001b[39m# Realizar el recorrido recursivo y colorear las casillas\u001b[39;00m\n\u001b[1;32m---> 65\u001b[0m     recursive_fill(matrix, colores, t[\u001b[39m0\u001b[39;49m], t[\u001b[39m1\u001b[39;49m])\n\u001b[0;32m     66\u001b[0m     plt\u001b[39m.\u001b[39mtitle(\u001b[39m\"\u001b[39m\u001b[39mRecorrido recursivo\u001b[39m\u001b[39m\"\u001b[39m)\n\u001b[0;32m     68\u001b[0m \u001b[39m# Mostrar la matriz con los colores\u001b[39;00m\n",
      "Cell \u001b[1;32mIn[232], line 18\u001b[0m, in \u001b[0;36mrecursive_fill\u001b[1;34m(matrix, colores, i, j)\u001b[0m\n\u001b[0;32m     15\u001b[0m colores[i, j] \u001b[39m=\u001b[39m [\u001b[39m0\u001b[39m, \u001b[39m1\u001b[39m, \u001b[39m0\u001b[39m]  \u001b[39m# Colorear la casilla en verde\u001b[39;00m\n\u001b[0;32m     17\u001b[0m \u001b[39m# Llamar recursivamente a la función para moverse a la siguiente posición\u001b[39;00m\n\u001b[1;32m---> 18\u001b[0m recursive_fill(matrix, colores, nf \u001b[39m-\u001b[39;49m (i \u001b[39m+\u001b[39;49m \u001b[39m1\u001b[39;49m), nc \u001b[39m-\u001b[39;49m (j \u001b[39m+\u001b[39;49m \u001b[39m1\u001b[39;49m))\n",
      "Cell \u001b[1;32mIn[232], line 18\u001b[0m, in \u001b[0;36mrecursive_fill\u001b[1;34m(matrix, colores, i, j)\u001b[0m\n\u001b[0;32m     15\u001b[0m colores[i, j] \u001b[39m=\u001b[39m [\u001b[39m0\u001b[39m, \u001b[39m1\u001b[39m, \u001b[39m0\u001b[39m]  \u001b[39m# Colorear la casilla en verde\u001b[39;00m\n\u001b[0;32m     17\u001b[0m \u001b[39m# Llamar recursivamente a la función para moverse a la siguiente posición\u001b[39;00m\n\u001b[1;32m---> 18\u001b[0m recursive_fill(matrix, colores, nf \u001b[39m-\u001b[39;49m (i \u001b[39m+\u001b[39;49m \u001b[39m1\u001b[39;49m), nc \u001b[39m-\u001b[39;49m (j \u001b[39m+\u001b[39;49m \u001b[39m1\u001b[39;49m))\n",
      "    \u001b[1;31m[... skipping similar frames: recursive_fill at line 18 (2970 times)]\u001b[0m\n",
      "Cell \u001b[1;32mIn[232], line 18\u001b[0m, in \u001b[0;36mrecursive_fill\u001b[1;34m(matrix, colores, i, j)\u001b[0m\n\u001b[0;32m     15\u001b[0m colores[i, j] \u001b[39m=\u001b[39m [\u001b[39m0\u001b[39m, \u001b[39m1\u001b[39m, \u001b[39m0\u001b[39m]  \u001b[39m# Colorear la casilla en verde\u001b[39;00m\n\u001b[0;32m     17\u001b[0m \u001b[39m# Llamar recursivamente a la función para moverse a la siguiente posición\u001b[39;00m\n\u001b[1;32m---> 18\u001b[0m recursive_fill(matrix, colores, nf \u001b[39m-\u001b[39;49m (i \u001b[39m+\u001b[39;49m \u001b[39m1\u001b[39;49m), nc \u001b[39m-\u001b[39;49m (j \u001b[39m+\u001b[39;49m \u001b[39m1\u001b[39;49m))\n",
      "\u001b[1;31mRecursionError\u001b[0m: maximum recursion depth exceeded"
     ]
    },
    {
     "data": {
      "image/png": "[encoded data removed]",
      "text/plain": [
       "<Figure size 640x480 with 1 Axes>"
      ]
     },
     "metadata": {},
     "output_type": "display_data"
    }
   ],
   "source": [
    "graphic_(matrix, 5, t)"
   ]
  },
  {
   "cell_type": "code",
   "execution_count": 231,
   "metadata": {},
   "outputs": [
    {
     "name": "stdout",
     "output_type": "stream",
     "text": [
      "(8, 9, 3)\n"
     ]
    },
    {
     "data": {
      "image/png": "[encoded data removed]",
      "text/plain": [
       "<Figure size 640x480 with 1 Axes>"
      ]
     },
     "metadata": {},
     "output_type": "display_data"
    }
   ],
   "source": [
    "graphic_(matrix, 4, t)"
   ]
  }
 ],
 "metadata": {
  "kernelspec": {
   "display_name": "Python 3",
   "language": "python",
   "name": "python3"
  },
  "language_info": {
   "codemirror_mode": {
    "name": "ipython",
    "version": 3
   },
   "file_extension": ".py",
   "mimetype": "text/x-python",
   "name": "python",
   "nbconvert_exporter": "python",
   "pygments_lexer": "ipython3",
   "version": "3.11.3"
  },
  "orig_nbformat": 4
 },
 "nbformat": 4,
 "nbformat_minor": 2
}
